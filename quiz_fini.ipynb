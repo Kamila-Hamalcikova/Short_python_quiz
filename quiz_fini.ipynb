{
 "cells": [
  {
   "cell_type": "markdown",
   "metadata": {},
   "source": [
    "# Build a quiz - Part 2"
   ]
  },
  {
   "cell_type": "markdown",
   "metadata": {},
   "source": [
    "Below is the code we wrote yesterday, that asks three questions to the user and allows up to 3 wrong answers :"
   ]
  },
  {
   "cell_type": "markdown",
   "metadata": {},
   "source": [
    "Let's refactor our quiz now that we know how to be dry.\n",
    "\n",
    "SPECs: \n",
    "\n",
    "* Your code should be DRY \n",
    "* You should use functions "
   ]
  },
  {
   "cell_type": "code",
   "execution_count": 1,
   "metadata": {},
   "outputs": [
    {
     "name": "stdout",
     "output_type": "stream",
     "text": [
      "Voici notre quiz, tu as 3 chances !\n",
      "Combien de fois la France a gagné la coupe du monde ? 3\n",
      "Tu as 2 chances\n",
      "Combien de fois la France a gagné la coupe du monde ? 2\n",
      "Quand a été fondé Apple ? 1976\n",
      "Qui a fondé SpaceX ? Elton John\n",
      "Tu as 1 chances\n",
      "Qui a fondé SpaceX ? John Lennon\n",
      "Tu as 0 chances\n",
      "Oh non ! Tu as perdu le jeu...\n"
     ]
    }
   ],
   "source": [
    "nb_chances = 3\n",
    "\n",
    "# create dictionary to have questions and answers in pairs\n",
    "quiz = {\n",
    "\"question1\" : { \"Q\" :\"Combien de fois la France a gagné la coupe du monde ? \",\n",
    "                \"A\" : 2},  \n",
    "\"question2\" : {\"Q\" : \"Quand a été fondé Apple ? \",\n",
    "                \"A\": 1976} ,       \n",
    "\"question3\" : { \"Q\" : \"Qui a fondé SpaceX ? \",\n",
    "                \"A\": \"Elon Musk\"}}\n",
    "\n",
    "print(\"Voici notre quiz, tu as 3 chances !\")\n",
    "\n",
    "# counter for questions already asked\n",
    "counter = 0\n",
    "\n",
    "# create list to unable to loop through questions later\n",
    "questions = [\"question1\", \"question2\", \"question3\"]\n",
    "\n",
    "# for loop to interate though all questions\n",
    "for question in questions:\n",
    "\n",
    "    # ask question\n",
    "    part = input(quiz[questions[counter]][\"Q\"])\n",
    "\n",
    "    # when answer to question is wrong, deduce 1 chance\n",
    "    while part != str(quiz[questions[counter]][\"A\"]):\n",
    "        nb_chances -= 1\n",
    "        print(\"Tu as {} chances\".format(nb_chances))\n",
    "        \n",
    "        # when you used all 3 chances, GAME OVER\n",
    "        if nb_chances == 0:\n",
    "            print(\"Oh non ! Tu as perdu le jeu...\")\n",
    "            break\n",
    "        # ask again same question after wrong answer\n",
    "        part = input(quiz[questions[counter]][\"Q\"])\n",
    "\n",
    "    \n",
    "    if nb_chances == 0:\n",
    "            \n",
    "            break\n",
    "\n",
    "    # go to next question\n",
    "    counter +=1  \n",
    "   \n",
    "   # end quiz with congrats after 3 succesfully answered questions\n",
    "    if (counter == 3):\n",
    "        print(\"Bravo ! Tu as gagné le quiz !\")"
   ]
  },
  {
   "cell_type": "code",
   "execution_count": null,
   "metadata": {},
   "outputs": [],
   "source": []
  }
 ],
 "metadata": {
  "kernelspec": {
   "display_name": "Python 3",
   "language": "python",
   "name": "python3"
  },
  "language_info": {
   "codemirror_mode": {
    "name": "ipython",
    "version": 3
   },
   "file_extension": ".py",
   "mimetype": "text/x-python",
   "name": "python",
   "nbconvert_exporter": "python",
   "pygments_lexer": "ipython3",
   "version": "3.7.4"
  }
 },
 "nbformat": 4,
 "nbformat_minor": 2
}
