{
 "cells": [
  {
   "cell_type": "markdown",
   "metadata": {},
   "source": [
    "# Build a simple quiz with 3 questions"
   ]
  },
  {
   "cell_type": "markdown",
   "metadata": {},
   "source": [
    "Below is the code that asks three questions to the user and allows up to 3 wrong answers :\n",
    "\n",
    "### questions and answers:\n",
    "- How many times has France win football worlds ? 2\n",
    "- When was the company Apple founded ? 1976\n",
    "- Who founded SpaceX? Elon Musk\n"
   ]
  },
  {
   "cell_type": "markdown",
   "metadata": {},
   "source": [
    "specifications: \n",
    "\n",
    "* Your code should be DRY \n",
    "* You should use functions (or not:-))"
   ]
  },
  {
   "cell_type": "code",
   "execution_count": 2,
   "metadata": {},
   "outputs": [
    {
     "name": "stdout",
     "output_type": "stream",
     "text": [
      "Voici notre quiz, tu as 3 chances !\n",
      "How many times has France win football worlds ? 3\n",
      "You have 2 chances\n",
      "How many times has France win football worlds ? 2\n",
      "When was the company Apple founded ? 1976\n",
      "Who founded SpaceX ? John Lennon\n",
      "You have 1 chances\n",
      "Who founded SpaceX ? elon musk\n",
      "Bravo ! You won !\n"
     ]
    }
   ],
   "source": [
    "# variable for number of worng answers\n",
    "nb_chances = 3\n",
    "\n",
    "# create dictionary to have questions and answers in pairs\n",
    "quiz = {\n",
    "\"question1\" : { \"Q\" :\"How many times has France win football worlds ? \",\n",
    "                \"A\" : 2},  \n",
    "\"question2\" : {\"Q\" : \"When was the company Apple founded ? \",\n",
    "                \"A\": 1976} ,       \n",
    "\"question3\" : { \"Q\" : \"Who founded SpaceX ? \",\n",
    "                \"A\": \"Elon Musk\"}}\n",
    "\n",
    "print(\"Voici notre quiz, tu as 3 chances !\")\n",
    "\n",
    "# counter for questions already asked\n",
    "counter = 0\n",
    "\n",
    "# create list to unable to loop through questions later\n",
    "questions = [\"question1\", \"question2\", \"question3\"]\n",
    "\n",
    "# for loop to interate though all questions\n",
    "for question in questions:\n",
    "\n",
    "    # ask question\n",
    "    part = input(quiz[questions[counter]][\"Q\"])\n",
    "\n",
    "    # when answer to question is wrong, deduce 1 chance\n",
    "    while part != (str(quiz[questions[counter]][\"A\"])).lower():\n",
    "        nb_chances -= 1\n",
    "        print(\"You have {} chances\".format(nb_chances))\n",
    "        \n",
    "        # when you used all 3 chances, GAME OVER\n",
    "        if nb_chances == 0:\n",
    "            print(\"Oh no ! GAME OVER\")\n",
    "            break\n",
    "        # ask again same question after wrong answer\n",
    "        part = input(quiz[questions[counter]][\"Q\"])\n",
    "    \n",
    "    if nb_chances == 0:\n",
    "        break\n",
    "\n",
    "    # go to next question\n",
    "    counter +=1  \n",
    "   \n",
    "   # end quiz with congrats after 3 succesfully answered questions\n",
    "    if (counter == 3):\n",
    "        print(\"Bravo ! You won !\")"
   ]
  }
 ],
 "metadata": {
  "kernelspec": {
   "display_name": "Python 3",
   "language": "python",
   "name": "python3"
  },
  "language_info": {
   "codemirror_mode": {
    "name": "ipython",
    "version": 3
   },
   "file_extension": ".py",
   "mimetype": "text/x-python",
   "name": "python",
   "nbconvert_exporter": "python",
   "pygments_lexer": "ipython3",
   "version": "3.7.4"
  }
 },
 "nbformat": 4,
 "nbformat_minor": 2
}
